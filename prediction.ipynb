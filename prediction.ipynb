{
  "nbformat": 4,
  "nbformat_minor": 0,
  "metadata": {
    "colab": {
      "provenance": [],
      "authorship_tag": "ABX9TyNAO2psHSH7KIKty2Sr5g6T",
      "include_colab_link": true
    },
    "kernelspec": {
      "name": "python3",
      "display_name": "Python 3"
    },
    "language_info": {
      "name": "python"
    }
  },
  "cells": [
    {
      "cell_type": "markdown",
      "metadata": {
        "id": "view-in-github",
        "colab_type": "text"
      },
      "source": [
        "<a href=\"https://colab.research.google.com/github/Sompote/transformer_pile/blob/main/prediction.ipynb\" target=\"_parent\"><img src=\"https://colab.research.google.com/assets/colab-badge.svg\" alt=\"Open In Colab\"/></a>"
      ]
    },
    {
      "cell_type": "markdown",
      "source": [
        "Genrative AI to produce load defoormatin curve of pile in Bangkok sub Soil <br>\n",
        "by Dr. Sompote Youwai November 2023 <br>\n",
        "King Mongkut's University of Technology Thonburi"
      ],
      "metadata": {
        "id": "7GRcotjDfn34"
      }
    },
    {
      "cell_type": "code",
      "source": [
        "!pip install tensorflow -q"
      ],
      "metadata": {
        "id": "yz54mt0jdcMA"
      },
      "execution_count": 1,
      "outputs": []
    },
    {
      "cell_type": "code",
      "execution_count": 2,
      "metadata": {
        "id": "n2bXxD2HaYjz"
      },
      "outputs": [],
      "source": [
        "#Transformer prediciton to predict RIC combind model by Dr. Sompote Youwai 2023\n",
        "import numpy as np\n",
        "import pandas as pd\n",
        "\n",
        "# Import libraries\n",
        "import numpy as np\n",
        "from keras.models import Sequential\n",
        "from keras.layers import Dense\n",
        "from sklearn.model_selection import train_test_split\n",
        "from sklearn.preprocessing import StandardScaler\n",
        "from sklearn.preprocessing import MinMaxScaler\n",
        "import matplotlib.pyplot as plt\n",
        "import pandas as pd\n",
        "\n",
        "#import tensorflow as tf\n",
        "from keras.models import Model\n",
        "from keras.layers import Input, Dense, Conv1D, Flatten, concatenate,Reshape, Dropout,Bidirectional,LayerNormalization\n",
        "from keras import *\n",
        "from keras.optimizers import Adam\n",
        "import pickle #download weight scaler\n",
        "#import keras_nlp\n",
        "\n",
        "\n",
        "df = pd.read_excel('data_pile.xlsx',sheet_name='soil')\n",
        "df_y = pd.read_excel('data_pile.xlsx',sheet_name='pile')\n",
        "df_p = pd.read_excel('data_pile.xlsx',sheet_name='pile_length')\n",
        "sc_f = pickle.load(open('scaler_f.pkl', 'rb'))\n",
        "\n",
        "data=np.array(df)\n",
        "data_y=np.array(df_y)\n",
        "data_pile=np.array(df_p)\n",
        "data_pile=data_pile[:,1:61]\n",
        "\n",
        "x_feature=data_y[:,0:4]\n",
        "\n",
        "bh=data[:,1:61]\n",
        "bh2=data[:,61:122]/2\n",
        "\n",
        "\n",
        "\n",
        "#scale data\n",
        "X_train=bh\n",
        "\n",
        "\n",
        "X_feature=x_feature\n",
        "\n",
        "x_train=X_train/50\n",
        "x_feature=sc_f.transform(X_feature)\n",
        "\n",
        "soil_data=np.stack([x_train,bh2,data_pile],axis=2)\n",
        "\n",
        "X=soil_data\n",
        "\n",
        "#select sample\n",
        "sample=1 #pile number that want to predict\n",
        "Xd=X[sample-1:sample]\n",
        "n=sample-1\n",
        "X=Xd\n",
        "feature=np.array([42,1,3,2]) #pile feature\n",
        "feature=np.reshape(feature,(1,-1))\n",
        "\n",
        "fd=sc_f.transform(feature)\n",
        "x_feature=fd\n",
        "X_train_CNN=np.zeros((X.shape[0],X.shape[1],X_feature.shape[1]+3))\n",
        "\n",
        "\n",
        "#preparing input matrix\n",
        "#first dim is time step, 2-4 is feature\n",
        "X_train_CNN=np.zeros((X.shape[0],X.shape[1],X_feature.shape[1]+3))\n",
        "X_train_CNN[:,:,0:3]=X\n",
        "for i in range(0,(X.shape[0])):\n",
        "  X_train_CNN[i,:,3]=x_feature[i,1]\n",
        "  X_train_CNN[i,:,4]=x_feature[i,2]\n",
        "  X_train_CNN[i,:,5]=x_feature[i,3]\n",
        "  X_train_CNN[i,:,6]=x_feature[i,3]\n",
        "\n",
        "XT=X_train_CNN\n",
        "\n",
        "y_ini=np.zeros((1,40))\n",
        "y_ini[0,0]=0\n"
      ]
    },
    {
      "cell_type": "markdown",
      "source": [
        "Load model"
      ],
      "metadata": {
        "id": "ZaweP37YhFJc"
      }
    },
    {
      "cell_type": "code",
      "source": [
        "transformer = models.load_model('transformer_pile.h5')"
      ],
      "metadata": {
        "id": "6KhvhnOWcYrx"
      },
      "execution_count": 3,
      "outputs": []
    },
    {
      "cell_type": "markdown",
      "source": [
        "Prediction"
      ],
      "metadata": {
        "id": "m6a5rXmzhG_k"
      }
    },
    {
      "cell_type": "code",
      "source": [
        "#prediciton of the specify number of pile\n",
        "\n",
        "for step in range(0,39):\n",
        "  y=transformer.predict([XT,y_ini,fd])\n",
        "  y_ini[0,step+1]=y\n",
        "\n",
        "#y_pred=sc_y.inverse_transform(y_ini)\n",
        "y_pred=y_ini*40000"
      ],
      "metadata": {
        "colab": {
          "base_uri": "https://localhost:8080/"
        },
        "id": "skwFYWILcxgy",
        "outputId": "e4ad5ebd-5b86-48e0-89f4-99bf06c054e7"
      },
      "execution_count": 4,
      "outputs": [
        {
          "output_type": "stream",
          "name": "stdout",
          "text": [
            "1/1 [==============================] - 1s 1s/step\n",
            "1/1 [==============================] - 0s 57ms/step\n",
            "1/1 [==============================] - 0s 56ms/step\n",
            "1/1 [==============================] - 0s 59ms/step\n",
            "1/1 [==============================] - 0s 52ms/step\n",
            "1/1 [==============================] - 0s 53ms/step\n",
            "1/1 [==============================] - 0s 57ms/step\n",
            "1/1 [==============================] - 0s 53ms/step\n",
            "1/1 [==============================] - 0s 53ms/step\n",
            "1/1 [==============================] - 0s 54ms/step\n",
            "1/1 [==============================] - 0s 55ms/step\n",
            "1/1 [==============================] - 0s 53ms/step\n",
            "1/1 [==============================] - 0s 59ms/step\n",
            "1/1 [==============================] - 0s 52ms/step\n",
            "1/1 [==============================] - 0s 60ms/step\n",
            "1/1 [==============================] - 0s 56ms/step\n",
            "1/1 [==============================] - 0s 54ms/step\n",
            "1/1 [==============================] - 0s 88ms/step\n",
            "1/1 [==============================] - 0s 104ms/step\n",
            "1/1 [==============================] - 0s 98ms/step\n",
            "1/1 [==============================] - 0s 102ms/step\n",
            "1/1 [==============================] - 0s 89ms/step\n",
            "1/1 [==============================] - 0s 87ms/step\n",
            "1/1 [==============================] - 0s 91ms/step\n",
            "1/1 [==============================] - 0s 87ms/step\n",
            "1/1 [==============================] - 0s 93ms/step\n",
            "1/1 [==============================] - 0s 90ms/step\n",
            "1/1 [==============================] - 0s 92ms/step\n",
            "1/1 [==============================] - 0s 92ms/step\n",
            "1/1 [==============================] - 0s 98ms/step\n",
            "1/1 [==============================] - 0s 55ms/step\n",
            "1/1 [==============================] - 0s 54ms/step\n",
            "1/1 [==============================] - 0s 53ms/step\n",
            "1/1 [==============================] - 0s 59ms/step\n",
            "1/1 [==============================] - 0s 54ms/step\n",
            "1/1 [==============================] - 0s 55ms/step\n",
            "1/1 [==============================] - 0s 57ms/step\n",
            "1/1 [==============================] - 0s 56ms/step\n",
            "1/1 [==============================] - 0s 55ms/step\n"
          ]
        }
      ]
    },
    {
      "cell_type": "code",
      "source": [
        "# Define the x-axis and corresponding y-axis values as lists\n",
        "\n",
        "ydist=range(1,41)\n",
        "\n",
        "\n",
        "plt.plot( ydist,y_pred[0],color='blue',label='predict')\n",
        "plt.legend()\n",
        "\n",
        "plt.xlabel(\"deformation\")\n",
        "plt.ylabel(\"load\")\n",
        "\n",
        "ax = plt.gca()\n",
        "\n",
        "plt.show()"
      ],
      "metadata": {
        "colab": {
          "base_uri": "https://localhost:8080/",
          "height": 449
        },
        "id": "rnlMjfp2ekO2",
        "outputId": "b3f8fd39-835a-47be-efb2-5501629e7378"
      },
      "execution_count": 5,
      "outputs": [
        {
          "output_type": "display_data",
          "data": {
            "text/plain": [
              "<Figure size 640x480 with 1 Axes>"
            ],
            "image/png": "[encoded data removed]"
          },
          "metadata": {}
        }
      ]
    },
    {
      "cell_type": "code",
      "source": [],
      "metadata": {
        "id": "GdvGwe1Seyvi"
      },
      "execution_count": null,
      "outputs": []
    }
  ]
}